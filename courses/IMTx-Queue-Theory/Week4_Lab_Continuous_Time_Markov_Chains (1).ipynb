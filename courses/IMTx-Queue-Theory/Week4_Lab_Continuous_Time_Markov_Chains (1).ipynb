{
 "cells": [
  {
   "cell_type": "markdown",
   "metadata": {},
   "source": [
    "<p><font size=\"4\">  MOOC: Understanding queues</font></p>\n",
    "<p><font size=\"4\">  Python simulations</p>\n",
    "<p><font size=\"4\">  Week IV: Continuous time Markov chains </p>\n",
    "\n",
    "\n",
    "----------------------------"
   ]
  },
  {
   "cell_type": "markdown",
   "metadata": {},
   "source": [
    "In this lab, we focus on the simulation of continuous time Markov chains. In the lab of week 2 we have simulated a M/M/1 queue. This week, we are going to study a $M/M/1/K$ queue to illustrate the effects of a finite buffer length. We will compute the loss probability in this model and observe the influence of the load $\\rho$ when the capacity $K$ is large. \n",
    "\n",
    "-----------------"
   ]
  },
  {
   "cell_type": "markdown",
   "metadata": {},
   "source": [
    "**1)** Complete the code of the function **MM1K** below. This function generates one trajectory of a $M/M/1/K$ queue. The function returns the instants of events (arrivals or departures), the number of customers in the system at these instants, as well as the number of arrivals and of lost customers. Customers are lost if the buffer is full when they arrive. Default parameters will be set as follows: MMM1K($K=3$, $\\lambda = 4$, $\\mu = 5$, $N0 = 2$, $Tmax=100$). $\\lambda$ and $\\mu$ are the arrival and departure rates, $K$ is the maximum number of customers in the system, $N0$ is the initial number of customers, and the evolution of the number of customers in the system is simulated over $[0,Tmax]$. Plot a trajectory of the number of customers in the system against time, obtained after running function **MM1K** with the default parameters."
   ]
  },
  {
   "cell_type": "code",
   "execution_count": 1,
   "metadata": {},
   "outputs": [],
   "source": [
    "%matplotlib inline              \n",
    "from pylab import *          "
   ]
  },
  {
   "cell_type": "code",
   "execution_count": 2,
   "metadata": {},
   "outputs": [],
   "source": [
    "def MM1K(K=3,lambda_ = 4.,mu = 5.,N0 = 2,Tmax=100):\n",
    "    N0       = min(N0,K)# enforcing buffer length constraint\n",
    "    p        = lambda_/(mu+lambda_) # probability that the next event is an arrival when N(t) > 0\n",
    "    T        = [0]  # list of instants of events (arrivals/departures)\n",
    "    N        = [N0] # initial number of customers in the system, list of number of customers at arrivals/departures\n",
    "    losses   = 0    # number of lost clients\n",
    "    arrivals = 0    \n",
    "    while T[-1]<Tmax:\n",
    "        if N[-1]==0:\n",
    "            # inter-event when N(t)=0:\n",
    "            tau      = -1./lambda_*log(rand()) \n",
    "            event    = 1\n",
    "        else:\n",
    "            tau   = -1./(lambda_+mu)*log(rand()) # inter-event when N(t)>0\n",
    "            event = 2*(rand()<p)-1 # +1 for an arrival, -1 for a departure\n",
    "        # Unlike in function MM1, when N[-1]==K, if a new client arrives this client is lost \n",
    "        # and the number of lost clients is incremented by 1\n",
    "        if event==1:\n",
    "            arrivals +=1    # event==1 corresponds to an arrival\n",
    "            if N[-1]==K:\n",
    "                ###########################\n",
    "                # supply value of events and update losses\n",
    "                # when a customer arrives while N[-1]==K\n",
    "                event   = 0 #loss cliente does not increase N \n",
    "                losses  += 1 \n",
    "                ###########################\n",
    "        N = N + [N[-1]+event]\n",
    "        T = T + [T[-1]+tau]\n",
    "\n",
    "    T    = T[:-1] # event after Tmax is discarded\n",
    "    N    = N[:-1]\n",
    "    return array(T),array(N),arrivals,losses\n",
    "\n",
    "#------------------\n",
    "T,N,arrivals,losses = MM1K(K=3,lambda_ = 4.,mu = 5.,N0 = 2,Tmax=10**3)\n",
    "V1 = losses/arrivals"
   ]
  },
  {
   "cell_type": "code",
   "execution_count": 3,
   "metadata": {},
   "outputs": [
    {
     "data": {
      "image/png": "[encoded data removed]",
      "text/plain": [
       "<matplotlib.figure.Figure at 0x7ff3b8fc85c0>"
      ]
     },
     "metadata": {},
     "output_type": "display_data"
    }
   ],
   "source": [
    "# Plotting the evolution of the number of clients in the system\n",
    "\n",
    "def step(x,y,Tmax=0,color='b'):\n",
    "    # plots a step function representing the number\n",
    "    # of clients in the system at each instant\n",
    "    if Tmax==0:\n",
    "        Tmax = max(x)\n",
    "    x = append(x,[Tmax])  # number of clients\n",
    "    y = append(y,[y[-1]]) # instants of events\n",
    "    for k in range(len(x)-1):\n",
    "        vlines(x[k+1],y[k],y[k+1],color=color)\n",
    "        hlines(y[k],x[k],x[k+1],color=color)\n",
    "\n",
    "K=3\n",
    "T,N,arrivals,losses = MM1K()\n",
    "rcParams['figure.figsize'] = [15,3]\n",
    "step(T,N)\n",
    "xlabel('Time')\n",
    "ylabel('Number of clients')\n",
    "lambda_ = 4.\n",
    "mu = 5.\n",
    "title('Number of clients in the M/M/1/K queue' \n",
    "      +r'($\\rho =%g$, $K=%g$)'%(lambda_/mu,K))\n",
    "axis(ymin=-1,ymax=4)\n",
    "yticks(range(4), range(4));"
   ]
  },
  {
   "cell_type": "markdown",
   "metadata": {},
   "source": [
    "\n",
    "**2)** Letting $K$ range from 1 to 11, plot the loss probability for $\\lambda = 4$ and for $\\lambda = 10$ (and $\\mu=5$). Remarks ? Compare it to the theoretical loss probability.\n",
    "\n",
    "Observe on the curves that when $\\rho<1$ ($\\lambda=4$), the blocking probability of the $M/M/1/K$ queue tends to 0 as $K$ increases since the system tends to behave as a stable $M/M/1$ queue. \n",
    "\n",
    "When $\\rho>1$ ($\\lambda=10$), the rate of arrivals exceeds that of departures and the corresponding $M/M/1$ queue is unstable. So, even if $K$ is large the loss probability of the $M/M/1/K$ queue does not tend to zero.\n",
    "\n",
    "The loss probability in a M/M/1/K queue is:\n",
    "$$\n",
    "\\pi_K=\\dfrac{1-\\rho}{1-\\rho^{K+1}}\\rho^K\n",
    "$$\n",
    "\n",
    "Clearly, when $\\rho<1$, $\\pi_K$ tends to 0 as $K$ tends to infinity, whereas $\\pi_K$ tends to $(\\rho-1)/\\rho$ when $\\rho>1$ and $K$ tends to infinity."
   ]
  },
  {
   "cell_type": "code",
   "execution_count": 11,
   "metadata": {},
   "outputs": [
    {
     "data": {
      "image/png": "[encoded data removed]",
      "text/plain": [
       "<matplotlib.figure.Figure at 0x7ff3b5b96780>"
      ]
     },
     "metadata": {},
     "output_type": "display_data"
    }
   ],
   "source": [
    "Ks        = arange(1,12,2) # system capacities\n",
    "Ploss_est = zeros(len(Ks)) # estimated loss probabilities\n",
    "\n",
    "########################################################\n",
    "# complete the value returned by function estimate_Ploss\n",
    "# that estimates the loss probability from the obbserved \n",
    "# number of arrivals and number of lost arrivals\n",
    "def estimate_Ploss(arrivals, losses):\n",
    "    return float(losses)/float(arrivals)\n",
    "########################################################\n",
    "mu = 5\n",
    "for lambda_ in [4,10]:\n",
    "    # estimated loss probabilities:\n",
    "    for index,K in enumerate(Ks):\n",
    "        T,N,arrivals,losses = \\\n",
    "        MM1K(lambda_=lambda_,K=K,Tmax=10**3)\n",
    "        Ploss_est[index] = estimate_Ploss(arrivals, losses)\n",
    "    plot(Ks,Ploss_est,label=\"$\\lambda$=%d\"%lambda_)\n",
    "    # loss probabilities:\n",
    "    rho = lambda_/mu\n",
    "    Ploss = (1-rho)/(1-rho**(Ks+1))*rho**Ks \n",
    "    plot(Ks,Ploss,'.',label=\"Theory, $\\lambda$=%d\"%lambda_)\n",
    "axis(xmin=1,xmax=11)\n",
    "xlabel(\"System capacity\")\n",
    "title(\"Loss probability\")\n",
    "legend(loc=(.85,.2))\n",
    "\n",
    "#--------------------------\n",
    "V2 = estimate_Ploss(2,1) "
   ]
  },
  {
   "cell_type": "markdown",
   "metadata": {},
   "source": [
    "# Your answers for the exercise"
   ]
  },
  {
   "cell_type": "code",
   "execution_count": 12,
   "metadata": {},
   "outputs": [
    {
     "name": "stdout",
     "output_type": "stream",
     "text": [
      "---------------------------\n",
      "RESULTS SUPPLIED FOR LAB 4:\n",
      "---------------------------\n",
      "V1 = 0.17\n",
      "V2 = 0.50\n"
     ]
    }
   ],
   "source": [
    "print(\"---------------------------\\n\"\n",
    "      +\"RESULTS SUPPLIED FOR LAB 4:\\n\"\n",
    "      +\"---------------------------\")\n",
    "results = (\"V\"+str(k) for k in range(1,3))\n",
    "for x in results:\n",
    "    try:\n",
    "        print(x+\" = {0:.2f}\".format(eval(x)))\n",
    "    except:\n",
    "        print(x+\": variable is undefined\")   "
   ]
  },
  {
   "cell_type": "code",
   "execution_count": null,
   "metadata": {},
   "outputs": [],
   "source": []
  }
 ],
 "metadata": {
  "kernelspec": {
   "display_name": "Python 3",
   "language": "python",
   "name": "python3"
  },
  "language_info": {
   "codemirror_mode": {
    "name": "ipython",
    "version": 3
   },
   "file_extension": ".py",
   "mimetype": "text/x-python",
   "name": "python",
   "nbconvert_exporter": "python",
   "pygments_lexer": "ipython3",
   "version": "3.6.3"
  }
 },
 "nbformat": 4,
 "nbformat_minor": 1
}
