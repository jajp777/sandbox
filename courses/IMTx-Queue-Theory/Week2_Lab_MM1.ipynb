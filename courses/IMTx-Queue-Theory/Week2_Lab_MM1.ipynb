{
 "cells": [
  {
   "cell_type": "markdown",
   "metadata": {},
   "source": [
    "\n",
    "<p><font size=\"5\">  MOOC: Understanding queues</font></p>\n",
    "<p><font size=\"5\">  Python Lab\n",
    "</p></br>\n",
    "<p><font size=\"5\">  Week II: M/M/1 queue simulation </p></br>\n",
    "\n",
    "------------------------"
   ]
  },
  {
   "cell_type": "markdown",
   "metadata": {},
   "source": [
    "In this lab, we are going to simulate the evolution of the number of customers in a M/M/1 queue.\n",
    "Let $\\lambda$ and $\\mu$ represent the arrival and departure rates. We simulate the following events: arrival of a new client in the system, or departure of a client from the system. Additionally, we record the value of the number of customers in the system at these instants. \n",
    "\n"
   ]
  },
  {
   "cell_type": "markdown",
   "metadata": {},
   "source": [
    "**1)** We assume that the system is not empty. For $\\lambda=4$ and $\\mu=5$, what is the probability $Pa$ that the next event is an arrival?"
   ]
  },
  {
   "cell_type": "code",
   "execution_count": 29,
   "metadata": {},
   "outputs": [],
   "source": [
    "%matplotlib inline              \n",
    "from pylab import *          \n",
    "\n",
    "lambda_ = 4\n",
    "mu      = 5\n",
    "\n",
    "###################\n",
    "# Write a function that computes the probability Pa that the next event\n",
    "# is an arrival (when the system is not empty)\n",
    "def Pa(lambda_,mu):\n",
    "    return lambda_/(mu+lambda_)\n",
    "###################\n",
    "V1 = Pa(lambda_,mu)"
   ]
  },
  {
   "cell_type": "markdown",
   "metadata": {},
   "source": [
    "**2)** Assume that the system is not empty. The time before the next event (departure or arrival) follows an exponential distribution. What is the rate of this exponential distribution? "
   ]
  },
  {
   "cell_type": "code",
   "execution_count": 30,
   "metadata": {},
   "outputs": [],
   "source": [
    "###################\n",
    "# Supply the rate of the exponential distribution \n",
    "# that represents the time until the next event (departure or arrival)\n",
    "# if the system is not empty\n",
    "def Rate(lambda_,mu):\n",
    "    return lambda_+mu\n",
    "###################\n",
    "V2 = Rate(lambda_,mu)"
   ]
  },
  {
   "cell_type": "markdown",
   "metadata": {},
   "source": [
    "**3)** The implementation of the function **generate\\_MM1(lambda_=4, mu=5, N0 = 5, Tmax=200)** with entries \n",
    "\n",
    "> - lambda, mu: arrival and departure rates\n",
    "\n",
    "> - N0: initial number of customers in the system\n",
    "\n",
    "> - Tmax: time interval over which the evolution of the queue is simulated\n",
    "\n",
    "and outputs\n",
    "\n",
    "> - T: vector of instants of events (arrivals or departures) over [0,Tmax]\n",
    "\n",
    "> - N: vector of the number of customers in the system at instants in T \n",
    "\n",
    "is given below. Execute this code to plot the evolution the number of clients in the system against time.  \n"
   ]
  },
  {
   "cell_type": "code",
   "execution_count": 31,
   "metadata": {},
   "outputs": [],
   "source": [
    "def generate_MM1(lambda_=4,mu=5,N0=5,Tmax=200):\n",
    "    \"\"\"\n",
    "    function generate_MM1(N0 = 5,Tmax=200)\n",
    "    generates an MM1 file\n",
    "    INPUTS\n",
    "    ------\n",
    "    lambda, mu: arrival and departure rates\n",
    "    N0:         initial state of the system (default = 5)\n",
    "    Tmax:       duration of the observation (default = 200)\n",
    "    OUTPUTS\n",
    "    -------\n",
    "    T:          list of time of events (arrivals or departures) over [0,T]\n",
    "    N:          list of system states (at T(t): N->N+1 or N->N-1)\n",
    "    \"\"\"\n",
    "    seed(20) \n",
    "    tau   = 0       # initial instant\n",
    "    T     = [0]     # list of instants of events\n",
    "    N     = [N0]    # initial state of the system, list of state evolutions\n",
    "\n",
    "    while T[-1]<Tmax:\n",
    "        if N[-1]==0:\n",
    "            tau   = -1./lambda_*log(rand()) # inter-event time when N(t)=0\n",
    "            event = 1   # arrival\n",
    "        else:\n",
    "            tau   = -1./Rate(lambda_,mu)*log(rand()) # inter-event time when N(t)>0\n",
    "            event = 2*(rand()<Pa(lambda_,mu))-1 \n",
    "            # +1 for an arrival (with probability Pa), -1 for a departure\n",
    "        N = N + [N[-1]+event]  \n",
    "        T = T + [T[-1]+tau]\n",
    "\n",
    "    T = T[:-1] # event after Tmax is discarded\n",
    "    N = N[:-1]\n",
    "    return T,N"
   ]
  },
  {
   "cell_type": "code",
   "execution_count": 32,
   "metadata": {},
   "outputs": [
    {
     "data": {
      "text/plain": [
       "<matplotlib.text.Text at 0x7f831460f048>"
      ]
     },
     "execution_count": 32,
     "metadata": {},
     "output_type": "execute_result"
    },
    {
     "data": {
      "image/png": "[encoded data removed]",
      "text/plain": [
       "<matplotlib.figure.Figure at 0x7f83146f0a90>"
      ]
     },
     "metadata": {},
     "output_type": "display_data"
    }
   ],
   "source": [
    "# Plotting the number of clients in the system\n",
    "T,N = generate_MM1()\n",
    "rcParams['figure.figsize'] = [15,3]\n",
    "plot(T,N,'.b')\n",
    "xlabel('Time')\n",
    "ylabel('Number of customers')"
   ]
  },
  {
   "cell_type": "markdown",
   "metadata": {},
   "source": [
    "**4)** Letting now $\\lambda=4$ and $\\mu=3$, what do you notice when running the function generate_MM1? What is the value of the number of customers at $Tmax=200$?"
   ]
  },
  {
   "cell_type": "code",
   "execution_count": 33,
   "metadata": {
    "scrolled": true
   },
   "outputs": [
    {
     "data": {
      "text/plain": [
       "<matplotlib.text.Text at 0x7f83145057b8>"
      ]
     },
     "execution_count": 33,
     "metadata": {},
     "output_type": "execute_result"
    },
    {
     "data": {
      "image/png": "[encoded data removed]",
      "text/plain": [
       "<matplotlib.figure.Figure at 0x7f831456aef0>"
      ]
     },
     "metadata": {},
     "output_type": "display_data"
    }
   ],
   "source": [
    "T,N = generate_MM1(lambda_=4,mu=3)\n",
    "rcParams['figure.figsize'] = [15,3]\n",
    "plot(T,N,'.b')\n",
    "xlabel('Time')\n",
    "ylabel('Number of customers')"
   ]
  },
  {
   "cell_type": "code",
   "execution_count": 34,
   "metadata": {},
   "outputs": [
    {
     "name": "stdout",
     "output_type": "stream",
     "text": [
      "At Tmax, N=201\n"
     ]
    }
   ],
   "source": [
    "#####################\n",
    "# Supply the number of customers at Tmax\n",
    "n = N[-1]\n",
    "print('At Tmax, N={}'.format(n))\n",
    "#####################\n",
    "V3 = n"
   ]
  },
  {
   "cell_type": "markdown",
   "metadata": {},
   "source": [
    "# Your answers for the exercise"
   ]
  },
  {
   "cell_type": "code",
   "execution_count": 35,
   "metadata": {},
   "outputs": [
    {
     "name": "stdout",
     "output_type": "stream",
     "text": [
      "---------------------------\n",
      "RESULTS SUPPLIED FOR LAB 2:\n",
      "---------------------------\n",
      "V1 = 0.44\n",
      "V2 = 9.00\n",
      "V3 = 201.00\n"
     ]
    }
   ],
   "source": [
    "print(\"---------------------------\\n\"\n",
    "      +\"RESULTS SUPPLIED FOR LAB 2:\\n\"\n",
    "      +\"---------------------------\")\n",
    "results = (\"V\"+str(k) for k in range(1,4))\n",
    "for x in results:\n",
    "    try:\n",
    "        print(x+\" = {0:.2f}\".format(eval(x)))\n",
    "    except:\n",
    "        print(x+\": variable is undefined\") "
   ]
  },
  {
   "cell_type": "code",
   "execution_count": null,
   "metadata": {},
   "outputs": [],
   "source": []
  },
  {
   "cell_type": "code",
   "execution_count": null,
   "metadata": {},
   "outputs": [],
   "source": []
  },
  {
   "cell_type": "code",
   "execution_count": null,
   "metadata": {},
   "outputs": [],
   "source": []
  },
  {
   "cell_type": "code",
   "execution_count": null,
   "metadata": {},
   "outputs": [],
   "source": []
  },
  {
   "cell_type": "code",
   "execution_count": null,
   "metadata": {},
   "outputs": [],
   "source": []
  }
 ],
 "metadata": {
  "kernelspec": {
   "display_name": "Python 3",
   "language": "python",
   "name": "python3"
  },
  "language_info": {
   "codemirror_mode": {
    "name": "ipython",
    "version": 3
   },
   "file_extension": ".py",
   "mimetype": "text/x-python",
   "name": "python",
   "nbconvert_exporter": "python",
   "pygments_lexer": "ipython3",
   "version": "3.6.3"
  }
 },
 "nbformat": 4,
 "nbformat_minor": 1
}
